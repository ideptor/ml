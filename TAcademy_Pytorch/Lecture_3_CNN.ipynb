{
 "cells": [
  {
   "cell_type": "markdown",
   "metadata": {},
   "source": [
    "https://www.youtube.com/watch?v=YHBNCESKyrM"
   ]
  },
  {
   "cell_type": "markdown",
   "metadata": {},
   "source": [
    "# Convolutional Neural Network\n",
    "\n",
    "- MNIST data\n",
    "- 3 convolutional layers\n",
    "- 2 fully connected layers"
   ]
  },
  {
   "cell_type": "markdown",
   "metadata": {},
   "source": [
    "## 1. Settings\n",
    "\n",
    "### 1) Import required libraries"
   ]
  },
  {
   "cell_type": "code",
   "execution_count": 1,
   "metadata": {},
   "outputs": [],
   "source": [
    "import numpy as np\n",
    "import torch\n",
    "import torch.nn as nn\n",
    "import torch.optim as optim\n",
    "import torch.nn.init as init\n",
    "import torchvision.datasets as dset\n",
    "import torchvision.transforms as transforms\n",
    "from torch.utils.data import DataLoader\n",
    "from torch.autograd import Variable\n",
    "import time"
   ]
  },
  {
   "cell_type": "markdown",
   "metadata": {},
   "source": [
    "### 2) Set hyperparameters"
   ]
  },
  {
   "cell_type": "code",
   "execution_count": 40,
   "metadata": {},
   "outputs": [],
   "source": [
    "batch_size = 128\n",
    "learning_rate = 0.0002\n",
    "num_epoch = 20\n",
    "\n",
    "\n",
    "is_gpu = True\n",
    "#is_gpu = False"
   ]
  },
  {
   "cell_type": "markdown",
   "metadata": {},
   "source": [
    "## 2. Data\n",
    "\n",
    "### 1) Download data"
   ]
  },
  {
   "cell_type": "code",
   "execution_count": 41,
   "metadata": {},
   "outputs": [],
   "source": [
    "mnist_train = dset.MNIST('./', train=True, transform=transforms.ToTensor(), target_transform=None, download=True)\n",
    "mnist_test = dset.MNIST('./', train=False, transform=transforms.ToTensor(), target_transform=None, download=True)"
   ]
  },
  {
   "cell_type": "markdown",
   "metadata": {},
   "source": [
    "### 2) Check data"
   ]
  },
  {
   "cell_type": "code",
   "execution_count": 42,
   "metadata": {},
   "outputs": [
    {
     "name": "stdout",
     "output_type": "stream",
     "text": [
      "torch.Size([1, 28, 28]) 60000\n",
      "torch.Size([1, 28, 28]) 10000\n"
     ]
    }
   ],
   "source": [
    "print(mnist_train.__getitem__(0)[0].size(), mnist_train.__len__())\n",
    "print(mnist_test.__getitem__(0)[0].size(), mnist_test.__len__())"
   ]
  },
  {
   "cell_type": "markdown",
   "metadata": {},
   "source": [
    "### 3) Set DataLoader"
   ]
  },
  {
   "cell_type": "code",
   "execution_count": 43,
   "metadata": {},
   "outputs": [],
   "source": [
    "train_loader = torch.utils.data.DataLoader(mnist_train, batch_size=batch_size, shuffle=True)\n",
    "test_loader = torch.utils.data.DataLoader(mnist_test, batch_size=batch_size, shuffle=False)"
   ]
  },
  {
   "cell_type": "markdown",
   "metadata": {},
   "source": [
    "## 3. Model & Optimizer\n",
    "\n",
    "### 1) CNN Model"
   ]
  },
  {
   "cell_type": "code",
   "execution_count": 44,
   "metadata": {},
   "outputs": [],
   "source": [
    "class CNN(nn.Module):\n",
    "    def __init__(self):\n",
    "        super(CNN, self).__init__()\n",
    "        self.layer = nn.Sequential(\n",
    "            nn.Conv2d(1,64,3,1,1),    # 64 * 28 * 28\n",
    "            nn.BatchNorm2d(64),\n",
    "            nn.ReLU(),\n",
    "            nn.Conv2d(64,128,3,1,1),  # 128 * 28 * 28\n",
    "            nn.BatchNorm2d(128),\n",
    "            nn.ReLU(),\n",
    "            nn.MaxPool2d(2,2),        # 128 * 14 * 14\n",
    "            nn.Conv2d(128,256,3,1,1), # 256 * 14 * 14\n",
    "            nn.BatchNorm2d(256),\n",
    "            nn.ReLU(),\n",
    "            nn.Conv2d(256,512,3,1,1), # 512 * 14 * 14\n",
    "            nn.BatchNorm2d(512),\n",
    "            nn.ReLU(),\n",
    "            nn.MaxPool2d(2,2)        # 512 * 7 * 7\n",
    "        )\n",
    "        self.fc_layer = nn.Sequential(\n",
    "            nn.Linear(512*7*7, 400),\n",
    "            nn.ReLU(),\n",
    "            nn.Linear(400,10)\n",
    "        )\n",
    "        \n",
    "    def forward(self, x):\n",
    "        out = self.layer(x)\n",
    "        #out = out.view(batch_size, -1)\n",
    "        out = out.view(-1, 512*7*7)\n",
    "        out = self.fc_layer(out)\n",
    "        return out\n",
    "    \n",
    "model = CNN()\n",
    "if is_gpu:\n",
    "    model = model.cuda()"
   ]
  },
  {
   "cell_type": "markdown",
   "metadata": {},
   "source": [
    "### 2) Loss func & optimizer"
   ]
  },
  {
   "cell_type": "code",
   "execution_count": 45,
   "metadata": {},
   "outputs": [],
   "source": [
    "loss_func = nn.CrossEntropyLoss()\n",
    "optimizer = optim.Adam(model.parameters(), lr=learning_rate)"
   ]
  },
  {
   "cell_type": "markdown",
   "metadata": {},
   "source": [
    "## 4. Train"
   ]
  },
  {
   "cell_type": "markdown",
   "metadata": {},
   "source": [
    "### 실험\n",
    "\n",
    "#### 환경\n",
    "- CPU: Intel(R) Core(TM) i7-86565U CPU @ 1.80GHz 1.99Ghz\n",
    "- GPU: GeForce GTX 1650 Max-Q\n",
    "\n",
    "#### 10번의 batch 수행 (128 * 10 = 1280개 데이터 처리)\n",
    "- gpu:  1.3s\n",
    "- cpu: 24.3s"
   ]
  },
  {
   "cell_type": "code",
   "execution_count": null,
   "metadata": {},
   "outputs": [
    {
     "name": "stdout",
     "output_type": "stream",
     "text": [
      "epoch=01, itr=001, loss=0.0462, time_elapsed=0.14 secs.\n",
      "epoch=01, itr=101, loss=0.0063, time_elapsed=13.31 secs.\n",
      "epoch=01, itr=201, loss=0.0324, time_elapsed=13.31 secs.\n",
      "epoch=01, itr=301, loss=0.0048, time_elapsed=13.33 secs.\n",
      "epoch=01, itr=401, loss=0.0085, time_elapsed=13.23 secs.\n",
      "time elapsed: 62.30 secs / 1.04mins.\n",
      "epoch=02, itr=001, loss=0.0086, time_elapsed=0.22 secs.\n",
      "epoch=02, itr=101, loss=0.0671, time_elapsed=13.33 secs.\n",
      "epoch=02, itr=201, loss=0.0607, time_elapsed=13.34 secs.\n",
      "epoch=02, itr=301, loss=0.0758, time_elapsed=13.36 secs.\n",
      "epoch=02, itr=401, loss=0.0083, time_elapsed=13.32 secs.\n",
      "time elapsed: 62.55 secs / 1.04mins.\n",
      "epoch=03, itr=001, loss=0.0641, time_elapsed=0.22 secs.\n",
      "epoch=03, itr=101, loss=0.0010, time_elapsed=13.34 secs.\n",
      "epoch=03, itr=201, loss=0.0051, time_elapsed=13.33 secs.\n"
     ]
    }
   ],
   "source": [
    "\n",
    "for i in range(num_epoch):\n",
    "    start = time.time()\n",
    "    i_start = time.time()\n",
    "        \n",
    "    for j,[image,label] in enumerate(train_loader):\n",
    "        optimizer.zero_grad()\n",
    "        \n",
    "        if is_gpu:\n",
    "            x = Variable(image).cuda()\n",
    "            y_= Variable(label).cuda()\n",
    "        else:\n",
    "            x = Variable(image)\n",
    "            y_= Variable(label)\n",
    "   \n",
    "        output = model.forward(x)\n",
    "        loss = loss_func(output, y_)\n",
    "        loss.backward()\n",
    "        optimizer.step()\n",
    "        \n",
    "        if j % 100 == 0:\n",
    "            print(f'epoch={i+1:0>2d}, itr={j+1:0>3d}, loss={loss:.4f}, time_elapsed={time.time()-i_start:.2f} secs.') \n",
    "            i_start = time.time()\n",
    "                    \n",
    "    end = time.time()\n",
    "    print(f'time elapsed: {end-start:.2f} secs / {(end-start)/60:.2f}mins.')    "
   ]
  },
  {
   "cell_type": "markdown",
   "metadata": {},
   "source": [
    "## 5. Test"
   ]
  },
  {
   "cell_type": "code",
   "execution_count": 29,
   "metadata": {},
   "outputs": [
    {
     "name": "stderr",
     "output_type": "stream",
     "text": [
      "C:\\ProgramData\\Anaconda3\\lib\\site-packages\\ipykernel_launcher.py:8: UserWarning: volatile was removed and now has no effect. Use `with torch.no_grad():` instead.\n",
      "  \n"
     ]
    },
    {
     "name": "stdout",
     "output_type": "stream",
     "text": [
      "Accuracy of test data: 98.9300.\n"
     ]
    }
   ],
   "source": [
    "model.eval()\n",
    "\n",
    "correct = 0\n",
    "total = 0\n",
    "\n",
    "for image,label in test_loader:\n",
    "    if is_gpu:\n",
    "        x = Variable(image, volatile=True).cuda()\n",
    "        y_= Variable(label).cuda()\n",
    "    else:\n",
    "        x = Variable(image)\n",
    "        y_= Variable(label)\n",
    "    \n",
    "    output = model.forward(x)\n",
    "    _,output_index = torch.max(output, 1)\n",
    "    \n",
    "    total += label.size(0)\n",
    "    correct += (output_index == y_).sum().float()\n",
    "    \n",
    "print(f'Accuracy of test data: {100*correct/total:.2f}%.')"
   ]
  },
  {
   "cell_type": "code",
   "execution_count": null,
   "metadata": {},
   "outputs": [],
   "source": []
  }
 ],
 "metadata": {
  "kernelspec": {
   "display_name": "Python 3",
   "language": "python",
   "name": "python3"
  },
  "language_info": {
   "codemirror_mode": {
    "name": "ipython",
    "version": 3
   },
   "file_extension": ".py",
   "mimetype": "text/x-python",
   "name": "python",
   "nbconvert_exporter": "python",
   "pygments_lexer": "ipython3",
   "version": "3.7.6"
  }
 },
 "nbformat": 4,
 "nbformat_minor": 4
}
