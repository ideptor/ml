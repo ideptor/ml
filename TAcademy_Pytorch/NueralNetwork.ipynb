{
 "cells": [
  {
   "cell_type": "code",
   "execution_count": 2,
   "metadata": {},
   "outputs": [],
   "source": [
    "import torch"
   ]
  },
  {
   "cell_type": "code",
   "execution_count": 3,
   "metadata": {},
   "outputs": [
    {
     "data": {
      "text/plain": [
       "'1.5.1'"
      ]
     },
     "execution_count": 3,
     "metadata": {},
     "output_type": "execute_result"
    }
   ],
   "source": [
    "torch.__version__"
   ]
  },
  {
   "cell_type": "code",
   "execution_count": 4,
   "metadata": {},
   "outputs": [
    {
     "data": {
      "text/plain": [
       "torch.Size([2, 3])"
      ]
     },
     "execution_count": 4,
     "metadata": {},
     "output_type": "execute_result"
    }
   ],
   "source": [
    "x = torch.Tensor(2,3)\n",
    "x.size()"
   ]
  },
  {
   "cell_type": "code",
   "execution_count": 5,
   "metadata": {},
   "outputs": [
    {
     "data": {
      "text/plain": [
       "tensor([[0.0000e+00, 0.0000e+00, 1.8754e+28],\n",
       "        [1.0153e-08, 2.0943e+23, 1.0472e-11]])"
      ]
     },
     "execution_count": 5,
     "metadata": {},
     "output_type": "execute_result"
    }
   ],
   "source": [
    "x"
   ]
  },
  {
   "cell_type": "code",
   "execution_count": 6,
   "metadata": {},
   "outputs": [],
   "source": [
    "x_gpu = x.cuda()"
   ]
  },
  {
   "cell_type": "code",
   "execution_count": 7,
   "metadata": {},
   "outputs": [
    {
     "data": {
      "text/plain": [
       "tensor([[0.0000e+00, 0.0000e+00, 1.8754e+28],\n",
       "        [1.0153e-08, 2.0943e+23, 1.0472e-11]], device='cuda:0')"
      ]
     },
     "execution_count": 7,
     "metadata": {},
     "output_type": "execute_result"
    }
   ],
   "source": [
    "x_gpu"
   ]
  },
  {
   "cell_type": "code",
   "execution_count": 10,
   "metadata": {},
   "outputs": [],
   "source": [
    "import torch\n",
    "import torch.nn as nn"
   ]
  },
  {
   "cell_type": "code",
   "execution_count": 60,
   "metadata": {},
   "outputs": [],
   "source": [
    "data_num = 1000\n",
    "epoch_num = 5000\n",
    "\n",
    "x = torch.zeros([data_num, 1], dtype=torch.float32)\n",
    "noise = torch.zeros([data_num, 1], dtype=torch.float32)\n",
    "\n",
    "nn.init.uniform_(x, -15, 15)\n",
    "nn.init.normal_(noise, std=10)\n",
    "\n",
    "y = x**2 + 3\n",
    "y_noise = y + noise"
   ]
  },
  {
   "cell_type": "code",
   "execution_count": 61,
   "metadata": {},
   "outputs": [
    {
     "data": {
      "image/png": "[encoded data removed]",
      "text/plain": [
       "<Figure size 432x288 with 1 Axes>"
      ]
     },
     "metadata": {
      "needs_background": "light"
     },
     "output_type": "display_data"
    }
   ],
   "source": [
    "import matplotlib.pyplot as plt\n",
    "import numpy as np\n",
    "\n",
    "x_line = np.linspace(-15,15,100)\n",
    "y_line = x_line ** 2 + 3\n",
    "\n",
    "plt.scatter(x, y_noise, s=4)\n",
    "plt.plot(x_line, y_line, color='red', linewidth=3)\n",
    "plt.show()"
   ]
  },
  {
   "cell_type": "code",
   "execution_count": 99,
   "metadata": {},
   "outputs": [],
   "source": [
    "model = nn.Sequential(\n",
    "    nn.Linear(1,6),\n",
    "    nn.ReLU(),\n",
    "    nn.Linear(6,15),\n",
    "    nn.ReLU(),\n",
    "    nn.Linear(15,6),\n",
    "    nn.ReLU(),\n",
    "    nn.Linear(6,1),\n",
    ")\n",
    "# cuda 12s, cpu 9s"
   ]
  },
  {
   "cell_type": "code",
   "execution_count": 100,
   "metadata": {},
   "outputs": [
    {
     "data": {
      "text/plain": [
       "'\\nmodel = nn.Sequential(\\n    nn.Linear(1,60),\\n    nn.ReLU(),\\n    nn.Linear(60,150),\\n    nn.ReLU(),\\n    nn.Linear(150,60),\\n    nn.ReLU(),\\n    nn.Linear(60,1),\\n)\\n'"
      ]
     },
     "execution_count": 100,
     "metadata": {},
     "output_type": "execute_result"
    }
   ],
   "source": [
    "'''\n",
    "model = nn.Sequential(\n",
    "    nn.Linear(1,60),\n",
    "    nn.ReLU(),\n",
    "    nn.Linear(60,150),\n",
    "    nn.ReLU(),\n",
    "    nn.Linear(150,60),\n",
    "    nn.ReLU(),\n",
    "    nn.Linear(60,1),\n",
    ")\n",
    "'''\n",
    "# cuda 12s, cpu 20s"
   ]
  },
  {
   "cell_type": "code",
   "execution_count": 101,
   "metadata": {},
   "outputs": [],
   "source": [
    "#model.to(torch.device(\"cuda\"))\n",
    "#x = x.cuda()\n",
    "#y_noise = y_noise.cuda()\n",
    "#cuda 12secs, cpu 6.9secs for simple\n",
    "#cuda 12secs, cpu 20s for complicated\n",
    "model.to(torch.device(\"cpu\"))\n",
    "x = x.cpu()\n",
    "y_noise=y_noise.cpu()"
   ]
  },
  {
   "cell_type": "code",
   "execution_count": 102,
   "metadata": {},
   "outputs": [],
   "source": [
    "import torch.optim as optim\n",
    "opt = optim.SGD(model.parameters(), lr=0.0005)"
   ]
  },
  {
   "cell_type": "code",
   "execution_count": 104,
   "metadata": {},
   "outputs": [
    {
     "name": "stdout",
     "output_type": "stream",
     "text": [
      "tensor(77.3250, grad_fn=<L1LossBackward>)\n",
      "tensor(68.7448, grad_fn=<L1LossBackward>)\n",
      "tensor(22.2045, grad_fn=<L1LossBackward>)\n",
      "tensor(21.0713, grad_fn=<L1LossBackward>)\n",
      "tensor(20.0013, grad_fn=<L1LossBackward>)\n",
      "tensor(18.6698, grad_fn=<L1LossBackward>)\n",
      "tensor(16.6248, grad_fn=<L1LossBackward>)\n",
      "tensor(13.7279, grad_fn=<L1LossBackward>)\n",
      "tensor(10.9084, grad_fn=<L1LossBackward>)\n",
      "tensor(9.3081, grad_fn=<L1LossBackward>)\n",
      "elapsed time: 7.140293836593628 secs.\n"
     ]
    }
   ],
   "source": [
    "import time\n",
    "start = time.time()\n",
    "\n",
    "loss_func = nn.L1Loss()\n",
    "\n",
    "\n",
    "for epoch in range(epoch_num):\n",
    "    opt.zero_grad()\n",
    "    y_pred = model(x)\n",
    "    loss = loss_func(y_pred, y_noise)\n",
    "    loss.backward()\n",
    "    opt.step()\n",
    "    \n",
    "    if epoch % 500 == 0:\n",
    "        print(loss)\n",
    "        \n",
    "print(f'elapsed time: {time.time()-start} secs.')"
   ]
  },
  {
   "cell_type": "code",
   "execution_count": null,
   "metadata": {},
   "outputs": [],
   "source": []
  },
  {
   "cell_type": "code",
   "execution_count": 117,
   "metadata": {},
   "outputs": [
    {
     "data": {
      "text/plain": [
       "[<matplotlib.lines.Line2D at 0x13443a73c08>]"
      ]
     },
     "execution_count": 117,
     "metadata": {},
     "output_type": "execute_result"
    },
    {
     "data": {
      "image/png": "[encoded data removed]",
      "text/plain": [
       "<Figure size 432x288 with 1 Axes>"
      ]
     },
     "metadata": {
      "needs_background": "light"
     },
     "output_type": "display_data"
    }
   ],
   "source": [
    "x_line = np.linspace(-15,15,100, dtype=np.float32).reshape(100,-1)\n",
    "y_line = model(torch.from_numpy(x_line))\n",
    "\n",
    "plt.scatter(x, y_noise, s=5)\n",
    "plt.plot(x_line, y_line.detach().numpy(), linewidth=3, color='red')"
   ]
  },
  {
   "cell_type": "code",
   "execution_count": null,
   "metadata": {},
   "outputs": [],
   "source": [
    "import torch\n",
    "import torch.nn as nn\n",
    "import matplotlib.pyplot as plt\n",
    "import numpy as np\n",
    "import torch.optim as optim\n",
    "\n",
    "\n",
    "\n",
    "data_num = 1000\n",
    "epoch_num = 5000\n",
    "\n",
    "x = torch.zeros([data_num, 1], dtype=torch.float32)\n",
    "noise = torch.zeros([data_num, 1], dtype=torch.float32)\n",
    "\n",
    "nn.init.uniform_(x, -15, 15)\n",
    "nn.init.normal_(noise, std=300)\n",
    "\n",
    "y = x**3 - 4 * x**2 + 9 * x + 3\n",
    "y_noise = y + noise\n",
    "\n",
    "model = nn.Sequential(\n",
    "    nn.Linear(1,60),\n",
    "    nn.ReLU(),\n",
    "    nn.Linear(60,150),\n",
    "    nn.ReLU(),\n",
    "    nn.Linear(150,60),\n",
    "    nn.ReLU(),\n",
    "    nn.Linear(60,1),\n",
    ")\n",
    "model.to(torch.device(\"cuda\"))\n",
    "x = x.cuda()\n",
    "y_noise = y_noise.cuda()\n",
    "\n",
    "opt = optim.SGD(model.parameters(), lr=0.0005)\n",
    "\n",
    "import time\n",
    "start = time.time()\n",
    "\n",
    "loss_func = nn.L1Loss()\n",
    "\n",
    "for epoch in range(epoch_num):\n",
    "    opt.zero_grad()\n",
    "    y_pred = model(x)\n",
    "    loss = loss_func(y_pred, y_noise)\n",
    "    loss.backward()\n",
    "    opt.step()\n",
    "    \n",
    "    if epoch % 500 == 0:\n",
    "        print(loss)\n",
    "        \n",
    "print(f'elapsed time: {time.time()-start} secs.')"
   ]
  },
  {
   "cell_type": "code",
   "execution_count": 139,
   "metadata": {},
   "outputs": [
    {
     "data": {
      "text/plain": [
       "[<matplotlib.lines.Line2D at 0x13442fbb088>]"
      ]
     },
     "execution_count": 139,
     "metadata": {},
     "output_type": "execute_result"
    },
    {
     "data": {
      "image/png": "[encoded data removed]",
      "text/plain": [
       "<Figure size 432x288 with 1 Axes>"
      ]
     },
     "metadata": {
      "needs_background": "light"
     },
     "output_type": "display_data"
    }
   ],
   "source": [
    "x_line = np.linspace(-15,15,100, dtype=np.float32).reshape(100,-1)\n",
    "y_line = model(torch.from_numpy(x_line).cuda())\n",
    "y_line = y_line.cpu()\n",
    "\n",
    "plt.scatter(x.cpu(), y_noise.cpu(), s=5)\n",
    "plt.plot(x_line, y_line.detach().numpy(), linewidth=3, color='red')"
   ]
  },
  {
   "cell_type": "code",
   "execution_count": null,
   "metadata": {},
   "outputs": [],
   "source": []
  }
 ],
 "metadata": {
  "kernelspec": {
   "display_name": "Python 3",
   "language": "python",
   "name": "python3"
  },
  "language_info": {
   "codemirror_mode": {
    "name": "ipython",
    "version": 3
   },
   "file_extension": ".py",
   "mimetype": "text/x-python",
   "name": "python",
   "nbconvert_exporter": "python",
   "pygments_lexer": "ipython3",
   "version": "3.7.6"
  }
 },
 "nbformat": 4,
 "nbformat_minor": 4
}
